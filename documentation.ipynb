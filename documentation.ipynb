{
 "cells": [
  {
   "attachments": {},
   "cell_type": "markdown",
   "metadata": {},
   "source": [
    "# Documentation for Autonomous Driving General Resources \n",
    "Accurate as of January 2023 > \n"
   ]
  },
  {
   "attachments": {},
   "cell_type": "markdown",
   "metadata": {},
   "source": [
    "## Global variables \n",
    "-   gameState: \n",
    "    -   Type: int \n",
    "    -   Used to control flow of program (Program uses state machine design pattern) \n",
    "    -   Please modify it with `stateUp()` and `checkpoint()` functions only \n",
    "-   stateTime: \n",
    "    -   Type: int \n",
    "    -   Unit: tick \n",
    "        -   Conversion: 40 ticks == 1 second \n",
    "    -   Used to measure time \n",
    "    -   The line `stateTime++;` should be included in your `game0()` function, else it will not work \n",
    "-   refreshRate (= 40): \n",
    "    -   Type: constant int \n",
    "    -   The number of times `game0()` is called per second. Used to calculate time \n",
    "-   maxSpeed (= 100): \n",
    "    -   Type: constant int \n",
    "    -   Used as the divisor in the `modulo(divident, divisor)` function \n",
    "-   normalisingFactor (= 5.0f) \n",
    "    -   Type: constant float \n",
    "    -   Used to normalise the `pos` value in the lineFollow functions \n",
    "    -   It is a float as float division is faster than integer division. "
   ]
  },
  {
   "attachments": {},
   "cell_type": "markdown",
   "metadata": {},
   "source": [
    "## Functions \n",
    "-   isColour(R, G, B); \n",
    "    -   Takes 3 integer inputs, range: 0 < input < 255 \n",
    "    -   The input will be modified to the absolute mod 255 of the value inputted \n",
    "    -   Returns `true` if value is within 10 of all three RGB values. \n",
    "-   isDir(intendedDirection); \n",
    "    -   Takes 1 integer input, range: 0 < input < 360 \n",
    "    -   Unit: Degrees \n",
    "    -   The input will be modified to the absolute mod 360 of the input. \n",
    "    -   Returns `true` if the current RotationZ is within 3 degrees of the intended direction. \n",
    "    -   The isDirection functions for North, South, East and West have been included. \n",
    "    -   Note: "
   ]
  }
 ],
 "metadata": {
  "kernelspec": {
   "display_name": "Python 3",
   "language": "python",
   "name": "python3"
  },
  "language_info": {
   "name": "python",
   "version": "3.11.1 (tags/v3.11.1:a7a450f, Dec  6 2022, 19:58:39) [MSC v.1934 64 bit (AMD64)]"
  },
  "orig_nbformat": 4,
  "vscode": {
   "interpreter": {
    "hash": "73f2c00b3cc59b05db074228c29991fbacf0e1e6d0adc4f86a80a564870f5f16"
   }
  }
 },
 "nbformat": 4,
 "nbformat_minor": 2
}
